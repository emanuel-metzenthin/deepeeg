{
 "cells": [
  {
   "cell_type": "code",
   "execution_count": 8,
   "metadata": {},
   "outputs": [],
   "source": [
    "from deepeeg.deepeeg import DeepEEG\n",
    "from deepeeg.dataloader import load_data_from_dir"
   ]
  },
  {
   "cell_type": "code",
   "execution_count": 9,
   "metadata": {},
   "outputs": [],
   "source": [
    "X_train, y_train, X_val, y_val = load_data_from_dir('./data/deepeeg-format/raw_large')\n",
    "\n",
    "deepEEG = DeepEEG()\n",
    "\n",
    "deepEEG.init_cnn((X_train.shape[1], X_train.shape[2]))\n",
    "\n",
    "deepEEG.train(X_train, y_train, X_val, y_val, epochs=50)"
   ]
  }
 ],
 "metadata": {
  "kernelspec": {
   "display_name": "Python 3",
   "language": "python",
   "name": "python3"
  },
  "language_info": {
   "codemirror_mode": {
    "name": "ipython",
    "version": 3
   },
   "file_extension": ".py",
   "mimetype": "text/x-python",
   "name": "python",
   "nbconvert_exporter": "python",
   "pygments_lexer": "ipython3",
   "version": "3.7.3"
  }
 },
 "nbformat": 4,
 "nbformat_minor": 2
}
